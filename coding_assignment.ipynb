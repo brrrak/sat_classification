{
 "cells": [
  {
   "cell_type": "code",
   "execution_count": 1,
   "id": "af2d9224",
   "metadata": {},
   "outputs": [
    {
     "name": "stderr",
     "output_type": "stream",
     "text": [
      "/home/burak/miniconda3/envs/ml/lib/python3.9/site-packages/tqdm/auto.py:22: TqdmWarning: IProgress not found. Please update jupyter and ipywidgets. See https://ipywidgets.readthedocs.io/en/stable/user_install.html\n",
      "  from .autonotebook import tqdm as notebook_tqdm\n"
     ]
    },
    {
     "name": "stdout",
     "output_type": "stream",
     "text": [
      "Imports OK\n"
     ]
    }
   ],
   "source": [
    "%matplotlib inline\n",
    "import numpy as np\n",
    "from skimage import io\n",
    "import matplotlib\n",
    "import matplotlib.pyplot as plt\n",
    "import os\n",
    "from glob import glob\n",
    "import torch\n",
    "from tqdm import tqdm\n",
    "\n",
    "from torchvision import datasets, transforms\n",
    "from torch.utils.data import DataLoader\n",
    "# from EuroSAT_dataset import EuroSAT\n",
    "from network import Net\n",
    "\n",
    "\n",
    "%load_ext autoreload\n",
    "%autoreload 2\n",
    "\n",
    "\n",
    "if not os.path.exists('./outputs'):\n",
    "    os.mkdir('./outputs')\n",
    "\n",
    "print('Imports OK')"
   ]
  },
  {
   "cell_type": "code",
   "execution_count": 2,
   "id": "745dbbdf",
   "metadata": {},
   "outputs": [
    {
     "name": "stdout",
     "output_type": "stream",
     "text": [
      "Parameters OK\n"
     ]
    }
   ],
   "source": [
    "# Global parameters\n",
    "\n",
    "# If USE_CUDA is True, computations will be done using the GPU (may not work in all systems)\n",
    "# This will make the calculations happen faster\n",
    "USE_CUDA = torch.cuda.is_available()\n",
    "\n",
    "DATASET_PATH = './EuroSAT_data'\n",
    "\n",
    "BATCH_SIZE = 64 # Number of images that are used for calculating gradients at each step\n",
    "\n",
    "NUM_EPOCHS = 25 # Number of times we will go through all the training images. Do not go over 25\n",
    "\n",
    "LEARNING_RATE = 0.001 # Controls the step size\n",
    "BETAS = (0.9, 0.999) # Hyperparameters for gradient descent\n",
    "WEIGHT_DECAY = 0.0001 # Regularization factor to reduce overfitting\n",
    "\n",
    "PATIENCE = 3 # Patience for lr scheduler\n",
    "\n",
    "\n",
    "\n",
    "print('Parameters OK')"
   ]
  },
  {
   "cell_type": "code",
   "execution_count": 3,
   "id": "cc65618c",
   "metadata": {},
   "outputs": [
    {
     "name": "stdout",
     "output_type": "stream",
     "text": [
      "Dataloaders OK\n"
     ]
    }
   ],
   "source": [
    "# Create datasets and data loaders\n",
    "train_dataset = datasets.ImageFolder(DATASET_PATH + '/train', transform=transforms.Compose([\n",
    "    transforms.RandomHorizontalFlip(),\n",
    "    transforms.RandomVerticalFlip(),\n",
    "    transforms.ToTensor()\n",
    "]))\n",
    "train_loader = DataLoader(train_dataset, batch_size=BATCH_SIZE, shuffle=True)\n",
    "\n",
    "test_dataset = datasets.ImageFolder(DATASET_PATH + '/test', transform=transforms.ToTensor())\n",
    "test_loader = DataLoader(test_dataset, batch_size=BATCH_SIZE, shuffle=True)\n",
    "\n",
    "\n",
    "print('Dataloaders OK')"
   ]
  },
  {
   "cell_type": "code",
   "execution_count": 4,
   "id": "25429dcc",
   "metadata": {},
   "outputs": [
    {
     "name": "stdout",
     "output_type": "stream",
     "text": [
      "Network OK\n"
     ]
    }
   ],
   "source": [
    "# Create network\n",
    "cnn = Net()\n",
    "#if USE_CUDA:\n",
    "if USE_CUDA: cnn.cuda()\n",
    "\n",
    "print('Network OK')"
   ]
  },
  {
   "cell_type": "code",
   "execution_count": 5,
   "id": "711b61a5",
   "metadata": {},
   "outputs": [],
   "source": [
    "# Define criterion, optimizer, and scheduler\n",
    "\n",
    "criterion = torch.nn.CrossEntropyLoss()\n",
    "optimizer = torch.optim.Adam(cnn.parameters(), lr=LEARNING_RATE, betas=BETAS, weight_decay=WEIGHT_DECAY)\n",
    "scheduler = torch.optim.lr_scheduler.ReduceLROnPlateau(optimizer=optimizer, patience=PATIENCE)\n",
    "# scheduler = torch.optim.lr_scheduler.StepLR(optimizer, step_size=5, gamma=0.5)\n",
    "# scheduler = torch.optim.lr_scheduler.Cyclic"
   ]
  },
  {
   "cell_type": "code",
   "execution_count": 6,
   "id": "afaf2855",
   "metadata": {},
   "outputs": [
    {
     "name": "stdout",
     "output_type": "stream",
     "text": [
      "21600\n"
     ]
    }
   ],
   "source": [
    "print(len(train_loader.dataset))"
   ]
  },
  {
   "cell_type": "code",
   "execution_count": 7,
   "id": "47b5e9dc",
   "metadata": {},
   "outputs": [
    {
     "name": "stdout",
     "output_type": "stream",
     "text": [
      "Net(\n",
      "  (convolutions): Sequential(\n",
      "    (0): Conv2d(3, 32, kernel_size=(3, 3), stride=(1, 1), padding=(1, 1))\n",
      "    (1): ReLU(inplace=True)\n",
      "    (2): MaxPool2d(kernel_size=2, stride=2, padding=0, dilation=1, ceil_mode=False)\n",
      "    (3): Conv2d(32, 64, kernel_size=(3, 3), stride=(1, 1), padding=(1, 1))\n",
      "    (4): ReLU(inplace=True)\n",
      "    (5): MaxPool2d(kernel_size=2, stride=2, padding=0, dilation=1, ceil_mode=False)\n",
      "    (6): Conv2d(64, 128, kernel_size=(3, 3), stride=(1, 1), padding=(1, 1))\n",
      "    (7): ReLU(inplace=True)\n",
      "    (8): MaxPool2d(kernel_size=2, stride=2, padding=0, dilation=1, ceil_mode=False)\n",
      "  )\n",
      "  (fully_connected): Sequential(\n",
      "    (0): Linear(in_features=8192, out_features=64, bias=True)\n",
      "    (1): ReLU(inplace=True)\n",
      "    (2): Linear(in_features=64, out_features=10, bias=True)\n",
      "  )\n",
      ")\n"
     ]
    }
   ],
   "source": [
    "print(cnn)"
   ]
  },
  {
   "cell_type": "code",
   "execution_count": 8,
   "id": "9bbd92cf",
   "metadata": {},
   "outputs": [],
   "source": [
    "# Helper function to organize main loop\n",
    "# This function is called for training and for testing at each epoch\n",
    "\n",
    "def run_epoch(net, optimizer, dataloader, criterion, train=True, cuda=USE_CUDA):\n",
    "    epoch_total_loss = 0\n",
    "    epoch_total_samples = 0\n",
    "    epoch_total_correct = 0\n",
    "\n",
    "    for sample in tqdm(dataloader):\n",
    "        img, label = sample\n",
    "\n",
    "        if cuda:\n",
    "            img = img.cuda()\n",
    "            label = label.cuda()\n",
    "\n",
    "        if train: #Be aware that this function should work both for training and testing\n",
    "            optimizer.zero_grad()\n",
    "            output = net(img)\n",
    "            loss = criterion(output, label)\n",
    "            loss.backward()\n",
    "            optimizer.step()\n",
    "            _, pred = torch.max(output.data, 1)\n",
    "#             'TODO'\n",
    "        \n",
    "        else:\n",
    "            output = net(img)\n",
    "            loss = criterion(output, label)\n",
    "            _, pred = torch.max(output.data, 1)\n",
    "        \n",
    "        with torch.no_grad():\n",
    "            epoch_total_samples += label.shape[0] #'TODO'\n",
    "            epoch_total_loss += loss #'TODO'\n",
    "            epoch_total_correct += (pred == label).sum() #'TODO'\n",
    "\n",
    "    return epoch_total_loss / epoch_total_samples, epoch_total_correct / epoch_total_samples"
   ]
  },
  {
   "cell_type": "code",
   "execution_count": 9,
   "id": "df2bc401",
   "metadata": {},
   "outputs": [
    {
     "name": "stdout",
     "output_type": "stream",
     "text": [
      "\n",
      "\n",
      "Running epoch 1 of 25...\n",
      "\n"
     ]
    },
    {
     "name": "stderr",
     "output_type": "stream",
     "text": [
      "100%|█████████████████████████████████████████| 338/338 [00:14<00:00, 22.55it/s]\n",
      "100%|███████████████████████████████████████████| 85/85 [00:02<00:00, 33.89it/s]\n"
     ]
    },
    {
     "name": "stdout",
     "output_type": "stream",
     "text": [
      "\n",
      "Epoch 1 validation results: Loss=0.014270547777414322 | Accuracy=0.6742592453956604\n",
      "\n",
      "Current lr: 0.001\n",
      "\n",
      "\n",
      "Running epoch 2 of 25...\n",
      "\n"
     ]
    },
    {
     "name": "stderr",
     "output_type": "stream",
     "text": [
      "100%|█████████████████████████████████████████| 338/338 [00:14<00:00, 23.15it/s]\n",
      "100%|███████████████████████████████████████████| 85/85 [00:02<00:00, 29.41it/s]\n"
     ]
    },
    {
     "name": "stdout",
     "output_type": "stream",
     "text": [
      "\n",
      "Epoch 2 validation results: Loss=0.010298134759068489 | Accuracy=0.7640740871429443\n",
      "\n",
      "Current lr: 0.001\n",
      "\n",
      "\n",
      "Running epoch 3 of 25...\n",
      "\n"
     ]
    },
    {
     "name": "stderr",
     "output_type": "stream",
     "text": [
      "100%|█████████████████████████████████████████| 338/338 [00:15<00:00, 22.20it/s]\n",
      "100%|███████████████████████████████████████████| 85/85 [00:02<00:00, 29.48it/s]\n"
     ]
    },
    {
     "name": "stdout",
     "output_type": "stream",
     "text": [
      "\n",
      "Epoch 3 validation results: Loss=0.010485711507499218 | Accuracy=0.761296272277832\n",
      "\n",
      "Current lr: 0.001\n",
      "\n",
      "\n",
      "Running epoch 4 of 25...\n",
      "\n"
     ]
    },
    {
     "name": "stderr",
     "output_type": "stream",
     "text": [
      "100%|█████████████████████████████████████████| 338/338 [00:15<00:00, 21.56it/s]\n",
      "100%|███████████████████████████████████████████| 85/85 [00:02<00:00, 29.67it/s]\n"
     ]
    },
    {
     "name": "stdout",
     "output_type": "stream",
     "text": [
      "\n",
      "Epoch 4 validation results: Loss=0.010032746940851212 | Accuracy=0.7718518376350403\n",
      "\n",
      "Current lr: 0.001\n",
      "\n",
      "\n",
      "Running epoch 5 of 25...\n",
      "\n"
     ]
    },
    {
     "name": "stderr",
     "output_type": "stream",
     "text": [
      "100%|█████████████████████████████████████████| 338/338 [00:15<00:00, 21.48it/s]\n",
      "100%|███████████████████████████████████████████| 85/85 [00:03<00:00, 28.17it/s]\n"
     ]
    },
    {
     "name": "stdout",
     "output_type": "stream",
     "text": [
      "\n",
      "Epoch 5 validation results: Loss=0.007986010983586311 | Accuracy=0.8224074244499207\n",
      "\n",
      "Current lr: 0.001\n",
      "\n",
      "\n",
      "Running epoch 6 of 25...\n",
      "\n"
     ]
    },
    {
     "name": "stderr",
     "output_type": "stream",
     "text": [
      "100%|█████████████████████████████████████████| 338/338 [00:16<00:00, 20.78it/s]\n",
      "100%|███████████████████████████████████████████| 85/85 [00:02<00:00, 28.89it/s]\n"
     ]
    },
    {
     "name": "stdout",
     "output_type": "stream",
     "text": [
      "\n",
      "Epoch 6 validation results: Loss=0.008254002779722214 | Accuracy=0.806851863861084\n",
      "\n",
      "Current lr: 0.001\n",
      "\n",
      "\n",
      "Running epoch 7 of 25...\n",
      "\n"
     ]
    },
    {
     "name": "stderr",
     "output_type": "stream",
     "text": [
      "100%|█████████████████████████████████████████| 338/338 [00:16<00:00, 20.98it/s]\n",
      "100%|███████████████████████████████████████████| 85/85 [00:03<00:00, 27.19it/s]\n"
     ]
    },
    {
     "name": "stdout",
     "output_type": "stream",
     "text": [
      "\n",
      "Epoch 7 validation results: Loss=0.007204461842775345 | Accuracy=0.8359259366989136\n",
      "\n",
      "Current lr: 0.001\n",
      "\n",
      "\n",
      "Running epoch 8 of 25...\n",
      "\n"
     ]
    },
    {
     "name": "stderr",
     "output_type": "stream",
     "text": [
      "100%|█████████████████████████████████████████| 338/338 [00:15<00:00, 21.22it/s]\n",
      "100%|███████████████████████████████████████████| 85/85 [00:03<00:00, 28.28it/s]\n"
     ]
    },
    {
     "name": "stdout",
     "output_type": "stream",
     "text": [
      "\n",
      "Epoch 8 validation results: Loss=0.008872520178556442 | Accuracy=0.7994444370269775\n",
      "\n",
      "Current lr: 0.001\n",
      "\n",
      "\n",
      "Running epoch 9 of 25...\n",
      "\n"
     ]
    },
    {
     "name": "stderr",
     "output_type": "stream",
     "text": [
      "100%|█████████████████████████████████████████| 338/338 [00:16<00:00, 20.71it/s]\n",
      "100%|███████████████████████████████████████████| 85/85 [00:03<00:00, 28.21it/s]\n"
     ]
    },
    {
     "name": "stdout",
     "output_type": "stream",
     "text": [
      "\n",
      "Epoch 9 validation results: Loss=0.007024923339486122 | Accuracy=0.845370352268219\n",
      "\n",
      "Current lr: 0.001\n",
      "\n",
      "\n",
      "Running epoch 10 of 25...\n",
      "\n"
     ]
    },
    {
     "name": "stderr",
     "output_type": "stream",
     "text": [
      "100%|█████████████████████████████████████████| 338/338 [00:16<00:00, 20.53it/s]\n",
      "100%|███████████████████████████████████████████| 85/85 [00:03<00:00, 27.64it/s]\n"
     ]
    },
    {
     "name": "stdout",
     "output_type": "stream",
     "text": [
      "\n",
      "Epoch 10 validation results: Loss=0.006234676111489534 | Accuracy=0.8611111044883728\n",
      "\n",
      "Current lr: 0.001\n",
      "\n",
      "\n",
      "Running epoch 11 of 25...\n",
      "\n"
     ]
    },
    {
     "name": "stderr",
     "output_type": "stream",
     "text": [
      "100%|█████████████████████████████████████████| 338/338 [00:16<00:00, 20.82it/s]\n",
      "100%|███████████████████████████████████████████| 85/85 [00:03<00:00, 27.40it/s]\n"
     ]
    },
    {
     "name": "stdout",
     "output_type": "stream",
     "text": [
      "\n",
      "Epoch 11 validation results: Loss=0.005465082358568907 | Accuracy=0.8790740966796875\n",
      "\n",
      "Current lr: 0.001\n",
      "\n",
      "\n",
      "Running epoch 12 of 25...\n",
      "\n"
     ]
    },
    {
     "name": "stderr",
     "output_type": "stream",
     "text": [
      "100%|█████████████████████████████████████████| 338/338 [00:16<00:00, 20.65it/s]\n",
      "100%|███████████████████████████████████████████| 85/85 [00:03<00:00, 28.21it/s]\n"
     ]
    },
    {
     "name": "stdout",
     "output_type": "stream",
     "text": [
      "\n",
      "Epoch 12 validation results: Loss=0.004787268582731485 | Accuracy=0.8946296572685242\n",
      "\n",
      "Current lr: 0.001\n",
      "\n",
      "\n",
      "Running epoch 13 of 25...\n",
      "\n"
     ]
    },
    {
     "name": "stderr",
     "output_type": "stream",
     "text": [
      "100%|█████████████████████████████████████████| 338/338 [00:16<00:00, 20.68it/s]\n",
      "100%|███████████████████████████████████████████| 85/85 [00:03<00:00, 27.81it/s]\n"
     ]
    },
    {
     "name": "stdout",
     "output_type": "stream",
     "text": [
      "\n",
      "Epoch 13 validation results: Loss=0.004619690123945475 | Accuracy=0.8961111307144165\n",
      "\n",
      "Current lr: 0.001\n",
      "\n",
      "\n",
      "Running epoch 14 of 25...\n",
      "\n"
     ]
    },
    {
     "name": "stderr",
     "output_type": "stream",
     "text": [
      "100%|█████████████████████████████████████████| 338/338 [00:16<00:00, 20.69it/s]\n",
      "100%|███████████████████████████████████████████| 85/85 [00:03<00:00, 27.60it/s]\n"
     ]
    },
    {
     "name": "stdout",
     "output_type": "stream",
     "text": [
      "\n",
      "Epoch 14 validation results: Loss=0.0046851481311023235 | Accuracy=0.8949999809265137\n",
      "\n",
      "Current lr: 0.001\n",
      "\n",
      "\n",
      "Running epoch 15 of 25...\n",
      "\n"
     ]
    },
    {
     "name": "stderr",
     "output_type": "stream",
     "text": [
      "100%|█████████████████████████████████████████| 338/338 [00:16<00:00, 20.57it/s]\n",
      "100%|███████████████████████████████████████████| 85/85 [00:03<00:00, 27.33it/s]\n"
     ]
    },
    {
     "name": "stdout",
     "output_type": "stream",
     "text": [
      "\n",
      "Epoch 15 validation results: Loss=0.007450274657458067 | Accuracy=0.82833331823349\n",
      "\n",
      "Current lr: 0.001\n",
      "\n",
      "\n",
      "Running epoch 16 of 25...\n",
      "\n"
     ]
    },
    {
     "name": "stderr",
     "output_type": "stream",
     "text": [
      "100%|█████████████████████████████████████████| 338/338 [00:16<00:00, 20.41it/s]\n",
      "100%|███████████████████████████████████████████| 85/85 [00:02<00:00, 28.51it/s]\n"
     ]
    },
    {
     "name": "stdout",
     "output_type": "stream",
     "text": [
      "\n",
      "Epoch 16 validation results: Loss=0.006141423247754574 | Accuracy=0.8698148131370544\n",
      "\n",
      "Current lr: 0.001\n",
      "\n",
      "\n",
      "Running epoch 17 of 25...\n",
      "\n"
     ]
    },
    {
     "name": "stderr",
     "output_type": "stream",
     "text": [
      "100%|█████████████████████████████████████████| 338/338 [00:16<00:00, 20.12it/s]\n",
      "100%|███████████████████████████████████████████| 85/85 [00:03<00:00, 28.05it/s]\n"
     ]
    },
    {
     "name": "stdout",
     "output_type": "stream",
     "text": [
      "\n",
      "Epoch 17 validation results: Loss=0.00495191803202033 | Accuracy=0.8899999856948853\n",
      "\n",
      "Current lr: 0.001\n",
      "\n",
      "\n",
      "Running epoch 18 of 25...\n",
      "\n"
     ]
    },
    {
     "name": "stderr",
     "output_type": "stream",
     "text": [
      "100%|█████████████████████████████████████████| 338/338 [00:16<00:00, 20.56it/s]\n",
      "100%|███████████████████████████████████████████| 85/85 [00:03<00:00, 26.29it/s]\n"
     ]
    },
    {
     "name": "stdout",
     "output_type": "stream",
     "text": [
      "\n",
      "Epoch 18 validation results: Loss=0.0038857748731970787 | Accuracy=0.9144444465637207\n",
      "\n",
      "Current lr: 0.001\n",
      "\n",
      "\n",
      "Running epoch 19 of 25...\n",
      "\n"
     ]
    },
    {
     "name": "stderr",
     "output_type": "stream",
     "text": [
      "100%|█████████████████████████████████████████| 338/338 [00:16<00:00, 20.23it/s]\n",
      "100%|███████████████████████████████████████████| 85/85 [00:03<00:00, 26.57it/s]\n"
     ]
    },
    {
     "name": "stdout",
     "output_type": "stream",
     "text": [
      "\n",
      "Epoch 19 validation results: Loss=0.0040394822135567665 | Accuracy=0.9079629778862\n",
      "\n",
      "Current lr: 0.001\n",
      "\n",
      "\n",
      "Running epoch 20 of 25...\n",
      "\n"
     ]
    },
    {
     "name": "stderr",
     "output_type": "stream",
     "text": [
      "100%|█████████████████████████████████████████| 338/338 [00:17<00:00, 19.66it/s]\n",
      "100%|███████████████████████████████████████████| 85/85 [00:03<00:00, 26.70it/s]\n"
     ]
    },
    {
     "name": "stdout",
     "output_type": "stream",
     "text": [
      "\n",
      "Epoch 20 validation results: Loss=0.0035363752394914627 | Accuracy=0.9205555319786072\n",
      "\n",
      "Current lr: 0.001\n",
      "\n",
      "\n",
      "Running epoch 21 of 25...\n",
      "\n"
     ]
    },
    {
     "name": "stderr",
     "output_type": "stream",
     "text": [
      "100%|█████████████████████████████████████████| 338/338 [00:16<00:00, 19.93it/s]\n",
      "100%|███████████████████████████████████████████| 85/85 [00:03<00:00, 26.39it/s]\n"
     ]
    },
    {
     "name": "stdout",
     "output_type": "stream",
     "text": [
      "\n",
      "Epoch 21 validation results: Loss=0.003963687922805548 | Accuracy=0.9133333563804626\n",
      "\n",
      "Current lr: 0.001\n",
      "\n",
      "\n",
      "Running epoch 22 of 25...\n",
      "\n"
     ]
    },
    {
     "name": "stderr",
     "output_type": "stream",
     "text": [
      "100%|█████████████████████████████████████████| 338/338 [00:17<00:00, 19.41it/s]\n",
      "100%|███████████████████████████████████████████| 85/85 [00:03<00:00, 28.20it/s]\n"
     ]
    },
    {
     "name": "stdout",
     "output_type": "stream",
     "text": [
      "\n",
      "Epoch 22 validation results: Loss=0.004176197573542595 | Accuracy=0.9096296429634094\n",
      "\n",
      "Current lr: 0.001\n",
      "\n",
      "\n",
      "Running epoch 23 of 25...\n",
      "\n"
     ]
    },
    {
     "name": "stderr",
     "output_type": "stream",
     "text": [
      "100%|█████████████████████████████████████████| 338/338 [00:16<00:00, 19.98it/s]\n",
      "100%|███████████████████████████████████████████| 85/85 [00:03<00:00, 26.56it/s]\n"
     ]
    },
    {
     "name": "stdout",
     "output_type": "stream",
     "text": [
      "\n",
      "Epoch 23 validation results: Loss=0.0036445963196456432 | Accuracy=0.9190740585327148\n",
      "\n",
      "Current lr: 0.001\n",
      "\n",
      "\n",
      "Running epoch 24 of 25...\n",
      "\n"
     ]
    },
    {
     "name": "stderr",
     "output_type": "stream",
     "text": [
      "100%|█████████████████████████████████████████| 338/338 [00:16<00:00, 20.00it/s]\n",
      "100%|███████████████████████████████████████████| 85/85 [00:03<00:00, 27.86it/s]\n"
     ]
    },
    {
     "name": "stdout",
     "output_type": "stream",
     "text": [
      "\n",
      "Epoch 24 validation results: Loss=0.00355075066909194 | Accuracy=0.9246296286582947\n",
      "\n",
      "Current lr: 0.001\n",
      "\n",
      "\n",
      "Running epoch 25 of 25...\n",
      "\n"
     ]
    },
    {
     "name": "stderr",
     "output_type": "stream",
     "text": [
      "100%|█████████████████████████████████████████| 338/338 [00:16<00:00, 19.97it/s]\n",
      "100%|███████████████████████████████████████████| 85/85 [00:03<00:00, 26.83it/s]\n"
     ]
    },
    {
     "name": "stdout",
     "output_type": "stream",
     "text": [
      "\n",
      "Epoch 25 validation results: Loss=0.004202116746455431 | Accuracy=0.9059259295463562\n",
      "\n",
      "Current lr: 0.001\n"
     ]
    },
    {
     "data": {
      "image/png": "[encoded data removed]",
      "text/plain": [
       "<Figure size 864x576 with 1 Axes>"
      ]
     },
     "metadata": {
      "needs_background": "light"
     },
     "output_type": "display_data"
    },
    {
     "data": {
      "image/png": "[encoded data removed]",
      "text/plain": [
       "<Figure size 864x576 with 1 Axes>"
      ]
     },
     "metadata": {
      "needs_background": "light"
     },
     "output_type": "display_data"
    }
   ],
   "source": [
    "# Main loop\n",
    "\n",
    "train_loss = []\n",
    "train_accuracy = []\n",
    "test_loss = []\n",
    "test_accuracy = []\n",
    "epochs = []\n",
    "\n",
    "for epoch in range(1, NUM_EPOCHS+1):\n",
    "    print(f'\\n\\nRunning epoch {epoch} of {NUM_EPOCHS}...\\n')\n",
    "    epochs.append(epoch)\n",
    "\n",
    "    #-------------------------Train-------------------------\n",
    "    # Set network train/test mode to 'train' in the next line\n",
    "    cnn.train()\n",
    "    \n",
    "    loss, accuracy = run_epoch(cnn, optimizer, train_loader, criterion, train=True, cuda=USE_CUDA)\n",
    "    train_loss.append(loss.cpu())\n",
    "    train_accuracy.append(accuracy.cpu())\n",
    "    \n",
    "    # Update learning rate with scheduler in the next line\n",
    "    scheduler.step(loss)\n",
    "\n",
    "    #-------------------------Test--------------------------\n",
    "    # Set network train/test mode to 'test' in the next line\n",
    "    cnn.eval()\n",
    "    \n",
    "    with torch.no_grad():\n",
    "        loss, accuracy = run_epoch(cnn, optimizer, test_loader, criterion, train=False, cuda=USE_CUDA)\n",
    "    test_loss.append(loss.cpu())\n",
    "    test_accuracy.append(accuracy.cpu())\n",
    "    print(f'\\nEpoch {epoch} validation results: Loss={loss.cpu()} | Accuracy={accuracy.cpu()}\\n')\n",
    "\n",
    "    \n",
    "    # Plot and save\n",
    "    plt.figure(figsize=(12, 8), num=1)\n",
    "    plt.clf()\n",
    "    plt.plot(epochs, train_loss, label='Train')\n",
    "    plt.plot(epochs, test_loss, label='Test')\n",
    "    plt.legend()\n",
    "    plt.grid()\n",
    "    plt.title('Cross entropy loss')\n",
    "    plt.xlabel('Epoch')\n",
    "    plt.ylabel('Loss')\n",
    "    plt.savefig('outputs/01-loss.pdf')\n",
    "\n",
    "    plt.figure(figsize=(12, 8), num=2)\n",
    "    plt.clf()\n",
    "    plt.plot(epochs, train_accuracy, label='Train')\n",
    "    plt.plot(epochs, test_accuracy, label='Test')\n",
    "    plt.legend()\n",
    "    plt.grid()\n",
    "    plt.title('Accuracy')\n",
    "    plt.xlabel('Epoch')\n",
    "    plt.ylabel('Accuracy')\n",
    "    plt.savefig('outputs/02-accuracy.pdf')"
   ]
  },
  {
   "cell_type": "code",
   "execution_count": 10,
   "id": "120f56be",
   "metadata": {},
   "outputs": [
    {
     "name": "stdout",
     "output_type": "stream",
     "text": [
      "Final train loss: 0.0026449363213032484\n",
      "Final test loss: 0.004202116746455431\n",
      "Final train accuracy: 0.9406481385231018\n",
      "Final test accuracy: 0.9059259295463562\n"
     ]
    }
   ],
   "source": [
    "print(f'Final train loss: {train_loss[-1]}')\n",
    "print(f'Final test loss: {test_loss[-1]}')\n",
    "print(f'Final train accuracy: {train_accuracy[-1]}')\n",
    "print(f'Final test accuracy: {test_accuracy[-1]}')"
   ]
  },
  {
   "cell_type": "code",
   "execution_count": null,
   "id": "8912cb72",
   "metadata": {},
   "outputs": [],
   "source": []
  }
 ],
 "metadata": {
  "kernelspec": {
   "display_name": "Python 3 (ipykernel)",
   "language": "python",
   "name": "python3"
  },
  "language_info": {
   "codemirror_mode": {
    "name": "ipython",
    "version": 3
   },
   "file_extension": ".py",
   "mimetype": "text/x-python",
   "name": "python",
   "nbconvert_exporter": "python",
   "pygments_lexer": "ipython3",
   "version": "3.9.12"
  }
 },
 "nbformat": 4,
 "nbformat_minor": 5
}
